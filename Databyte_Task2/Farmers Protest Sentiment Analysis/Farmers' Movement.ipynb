{
 "cells": [
  {
   "cell_type": "markdown",
   "metadata": {},
   "source": [
    "# Sentiment Analysis of Farmers' Protest "
   ]
  },
  {
   "cell_type": "markdown",
   "metadata": {},
   "source": [
    "By Rahul Prakash"
   ]
  },
  {
   "cell_type": "code",
   "execution_count": 3,
   "metadata": {},
   "outputs": [],
   "source": [
    "import pandas as pd\n",
    "from textblob import TextBlob\n",
    "import matplotlib.pyplot as plt"
   ]
  },
  {
   "cell_type": "code",
   "execution_count": 6,
   "metadata": {},
   "outputs": [],
   "source": [
    "df = pd.read_csv(r'C:\\Users\\ADMIN\\Desktop\\Farmers Protest Sentiment Analysis\\tweetsfarmbills.csv')"
   ]
  },
  {
   "cell_type": "code",
   "execution_count": 7,
   "metadata": {},
   "outputs": [
    {
     "data": {
      "text/html": [
       "<div>\n",
       "<style scoped>\n",
       "    .dataframe tbody tr th:only-of-type {\n",
       "        vertical-align: middle;\n",
       "    }\n",
       "\n",
       "    .dataframe tbody tr th {\n",
       "        vertical-align: top;\n",
       "    }\n",
       "\n",
       "    .dataframe thead th {\n",
       "        text-align: right;\n",
       "    }\n",
       "</style>\n",
       "<table border=\"1\" class=\"dataframe\">\n",
       "  <thead>\n",
       "    <tr style=\"text-align: right;\">\n",
       "      <th></th>\n",
       "      <th>Unnamed: 0</th>\n",
       "      <th>Date</th>\n",
       "      <th>Tweet</th>\n",
       "      <th>Tweet Source</th>\n",
       "      <th>Retweets</th>\n",
       "      <th>Likes</th>\n",
       "      <th>Location</th>\n",
       "      <th>Clean Tweet</th>\n",
       "      <th>SS</th>\n",
       "    </tr>\n",
       "  </thead>\n",
       "  <tbody>\n",
       "    <tr>\n",
       "      <th>0</th>\n",
       "      <td>0</td>\n",
       "      <td>2021-01-01 23:48:40</td>\n",
       "      <td>#respecteachother #kissanAndolan #KisanVirodhi...</td>\n",
       "      <td>Twitter for Android</td>\n",
       "      <td>0</td>\n",
       "      <td>0</td>\n",
       "      <td>NaN</td>\n",
       "      <td>when you stop listening and just want proof th...</td>\n",
       "      <td>NEGATIVE</td>\n",
       "    </tr>\n",
       "    <tr>\n",
       "      <th>1</th>\n",
       "      <td>1</td>\n",
       "      <td>2021-01-01 21:16:19</td>\n",
       "      <td>https://t.co/rkCCnptRGT https://t.co/rkCCnptRG...</td>\n",
       "      <td>Twitter for Android</td>\n",
       "      <td>0</td>\n",
       "      <td>0</td>\n",
       "      <td>India</td>\n",
       "      <td>speech farmers protest must watch and share</td>\n",
       "      <td>POSITIVE</td>\n",
       "    </tr>\n",
       "    <tr>\n",
       "      <th>2</th>\n",
       "      <td>2</td>\n",
       "      <td>2021-01-01 20:10:18</td>\n",
       "      <td>Half the problem got sorted when @RahulGandhi ...</td>\n",
       "      <td>Twitter Web App</td>\n",
       "      <td>4</td>\n",
       "      <td>8</td>\n",
       "      <td>New Delhi, India</td>\n",
       "      <td>half the problem got sorted when left the rema...</td>\n",
       "      <td>NEGATIVE</td>\n",
       "    </tr>\n",
       "    <tr>\n",
       "      <th>3</th>\n",
       "      <td>3</td>\n",
       "      <td>2021-01-01 19:49:52</td>\n",
       "      <td>@_pallavighosh @RSSxve Could have been drafted...</td>\n",
       "      <td>Twitter for Android</td>\n",
       "      <td>0</td>\n",
       "      <td>0</td>\n",
       "      <td>NaN</td>\n",
       "      <td>could have been drafted much bettercoming from...</td>\n",
       "      <td>NEGATIVE</td>\n",
       "    </tr>\n",
       "    <tr>\n",
       "      <th>4</th>\n",
       "      <td>4</td>\n",
       "      <td>2021-01-01 19:27:42</td>\n",
       "      <td>The French Revolution was a turning-point in t...</td>\n",
       "      <td>Twitter for Android</td>\n",
       "      <td>3</td>\n",
       "      <td>14</td>\n",
       "      <td>NaN</td>\n",
       "      <td>the french revolution was turningpoint the ris...</td>\n",
       "      <td>POSITIVE</td>\n",
       "    </tr>\n",
       "  </tbody>\n",
       "</table>\n",
       "</div>"
      ],
      "text/plain": [
       "   Unnamed: 0                 Date  \\\n",
       "0           0  2021-01-01 23:48:40   \n",
       "1           1  2021-01-01 21:16:19   \n",
       "2           2  2021-01-01 20:10:18   \n",
       "3           3  2021-01-01 19:49:52   \n",
       "4           4  2021-01-01 19:27:42   \n",
       "\n",
       "                                               Tweet         Tweet Source  \\\n",
       "0  #respecteachother #kissanAndolan #KisanVirodhi...  Twitter for Android   \n",
       "1  https://t.co/rkCCnptRGT https://t.co/rkCCnptRG...  Twitter for Android   \n",
       "2  Half the problem got sorted when @RahulGandhi ...      Twitter Web App   \n",
       "3  @_pallavighosh @RSSxve Could have been drafted...  Twitter for Android   \n",
       "4  The French Revolution was a turning-point in t...  Twitter for Android   \n",
       "\n",
       "   Retweets  Likes          Location  \\\n",
       "0         0      0               NaN   \n",
       "1         0      0             India   \n",
       "2         4      8  New Delhi, India   \n",
       "3         0      0               NaN   \n",
       "4         3     14               NaN   \n",
       "\n",
       "                                         Clean Tweet        SS  \n",
       "0  when you stop listening and just want proof th...  NEGATIVE  \n",
       "1        speech farmers protest must watch and share  POSITIVE  \n",
       "2  half the problem got sorted when left the rema...  NEGATIVE  \n",
       "3  could have been drafted much bettercoming from...  NEGATIVE  \n",
       "4  the french revolution was turningpoint the ris...  POSITIVE  "
      ]
     },
     "execution_count": 7,
     "metadata": {},
     "output_type": "execute_result"
    }
   ],
   "source": [
    "df.head()"
   ]
  },
  {
   "cell_type": "code",
   "execution_count": 23,
   "metadata": {},
   "outputs": [
    {
     "data": {
      "text/plain": [
       "'farmers are dying you would die due hunger simple that'"
      ]
     },
     "execution_count": 23,
     "metadata": {},
     "output_type": "execute_result"
    }
   ],
   "source": [
    "#_get_value gets a tweet from a given index in a database.\n",
    "string = df._get_value(8, 'Clean Tweet')\n",
    "string"
   ]
  },
  {
   "cell_type": "code",
   "execution_count": 24,
   "metadata": {},
   "outputs": [
    {
     "name": "stdout",
     "output_type": "stream",
     "text": [
      "-0.0625\n"
     ]
    }
   ],
   "source": [
    "#create a textblob object\n",
    "obj = TextBlob(string)\n",
    "\n",
    "#sentiment is an index which return a value between -1 and 1.\n",
    "sentiment = obj.sentiment.polarity\n",
    "\n",
    "#Prints the value\n",
    "print(sentiment)"
   ]
  },
  {
   "cell_type": "markdown",
   "metadata": {},
   "source": [
    "This is essentially the process we are going to use in sentiment analysis. A positive value in sentiment means it's a positive statement, negative value implies negative sentiment and 0 implies neutral."
   ]
  },
  {
   "cell_type": "markdown",
   "metadata": {},
   "source": [
    "This statement is a hybrid of negative and neutral."
   ]
  },
  {
   "cell_type": "code",
   "execution_count": 29,
   "metadata": {},
   "outputs": [
    {
     "name": "stdout",
     "output_type": "stream",
     "text": [
      "0.14285714285714285\n",
      "0.0\n",
      "-0.08333333333333333\n",
      "0.3\n",
      "0.0\n",
      "0.0\n",
      "0.0\n",
      "0.6\n",
      "-0.0625\n",
      "0.0\n"
     ]
    }
   ],
   "source": [
    "for i in range(10):\n",
    "    string = df._get_value(i, 'Clean Tweet')\n",
    "    obj = TextBlob(string)\n",
    "    sentiment = obj.sentiment.polarity\n",
    "    print(sentiment)"
   ]
  },
  {
   "cell_type": "code",
   "execution_count": 32,
   "metadata": {},
   "outputs": [
    {
     "name": "stdout",
     "output_type": "stream",
     "text": [
      "The number of positive views are : 1391\n",
      "The number of negative views are : 704\n",
      "The number of neutral views are : 1654\n"
     ]
    }
   ],
   "source": [
    "#Counting number of positive,negative and neutral opinions.\n",
    "positive = 0\n",
    "negative = 0\n",
    "neutral = 0\n",
    "for i in range(3749):\n",
    "    string = df._get_value(i, 'Clean Tweet')\n",
    "    obj = TextBlob(string)\n",
    "    sentiment = obj.sentiment.polarity\n",
    "    if(sentiment > 0):\n",
    "        positive += 1\n",
    "    if(sentiment < 0):\n",
    "        negative += 1\n",
    "    if(sentiment == 0):\n",
    "        neutral += 1\n",
    "print(\"The number of positive views are : \" + str(positive))\n",
    "print(\"The number of negative views are : \" + str(negative))\n",
    "print(\"The number of neutral views are : \" + str(neutral))"
   ]
  },
  {
   "cell_type": "code",
   "execution_count": 34,
   "metadata": {},
   "outputs": [
    {
     "data": {
      "image/png": "[encoded data removed]",
      "text/plain": [
       "<Figure size 432x288 with 1 Axes>"
      ]
     },
     "metadata": {},
     "output_type": "display_data"
    }
   ],
   "source": [
    "#Representaion of views in a pie chart\n",
    "slices = [positive, negative, neutral]\n",
    "Names = ['Positive', 'Negative', 'Neutral']\n",
    "plt.pie(slices, labels = Names)\n",
    "plt.show()"
   ]
  },
  {
   "cell_type": "markdown",
   "metadata": {},
   "source": [
    "Thus the majority of views on this topic are neutral and positive, showing strong support for the farmers' protest."
   ]
  },
  {
   "cell_type": "markdown",
   "metadata": {},
   "source": [
    "## Concentration of tweets across different places"
   ]
  },
  {
   "cell_type": "code",
   "execution_count": 44,
   "metadata": {},
   "outputs": [
    {
     "name": "stdout",
     "output_type": "stream",
     "text": [
      "India : 327\n",
      "New Delhi, India : 145\n",
      "Bengaluru, India : 27\n",
      "Mumbai : 33\n",
      "Chandigarh, India : 44\n",
      "New Delhi : 38\n",
      "Mumbai, India : 50\n",
      "Hyderabad, India : 36\n",
      "Brampton, Ontario : 26\n",
      "Punjab, India : 34\n"
     ]
    }
   ],
   "source": [
    "Places = []\n",
    "Dictionary = {}\n",
    "for i in range(3749):\n",
    "    string = df._get_value(i, 'Location')\n",
    "    if string not in Places:\n",
    "        Places.append(string)\n",
    "for place in Places:\n",
    "    count = 0\n",
    "    for i in range(3749):\n",
    "        string = df._get_value(i,'Location')\n",
    "        if(string == place):\n",
    "            count += 1\n",
    "    Dictionary.update({place : count})\n",
    "for key in Dictionary:\n",
    "    if(Dictionary[key]>=25):\n",
    "        print(key + \" : \" + str(Dictionary[key]))"
   ]
  },
  {
   "cell_type": "markdown",
   "metadata": {},
   "source": [
    "These are the places where more than 25 tweets have been made about the issue."
   ]
  },
  {
   "cell_type": "code",
   "execution_count": 50,
   "metadata": {},
   "outputs": [
    {
     "data": {
      "image/png": "[encoded data removed]",
      "text/plain": [
       "<Figure size 432x288 with 1 Axes>"
      ]
     },
     "metadata": {
      "needs_background": "light"
     },
     "output_type": "display_data"
    }
   ],
   "source": [
    "keys = []\n",
    "values = []\n",
    "for key in Dictionary:\n",
    "    if(Dictionary[key]>=25 and Dictionary[key]<200):\n",
    "        keys.append(key)\n",
    "        values.append(Dictionary[key])\n",
    "plt.bar(keys,values)\n",
    "plt.show()"
   ]
  },
  {
   "cell_type": "markdown",
   "metadata": {},
   "source": [
    "Let us make a sentiment analysis of tweets based in one Place, say, New Delhi, The epicentre of this conflict."
   ]
  },
  {
   "cell_type": "markdown",
   "metadata": {},
   "source": [
    "## Sentiment Analysis of Given Issue Local to New Delhi "
   ]
  },
  {
   "cell_type": "markdown",
   "metadata": {},
   "source": [
    "First, Let us collect all tweets from New Delhi."
   ]
  },
  {
   "cell_type": "code",
   "execution_count": 46,
   "metadata": {},
   "outputs": [
    {
     "data": {
      "text/html": [
       "<div>\n",
       "<style scoped>\n",
       "    .dataframe tbody tr th:only-of-type {\n",
       "        vertical-align: middle;\n",
       "    }\n",
       "\n",
       "    .dataframe tbody tr th {\n",
       "        vertical-align: top;\n",
       "    }\n",
       "\n",
       "    .dataframe thead th {\n",
       "        text-align: right;\n",
       "    }\n",
       "</style>\n",
       "<table border=\"1\" class=\"dataframe\">\n",
       "  <thead>\n",
       "    <tr style=\"text-align: right;\">\n",
       "      <th></th>\n",
       "      <th>Unnamed: 0</th>\n",
       "      <th>Date</th>\n",
       "      <th>Tweet</th>\n",
       "      <th>Tweet Source</th>\n",
       "      <th>Retweets</th>\n",
       "      <th>Likes</th>\n",
       "      <th>Location</th>\n",
       "      <th>Clean Tweet</th>\n",
       "      <th>SS</th>\n",
       "    </tr>\n",
       "  </thead>\n",
       "  <tbody>\n",
       "    <tr>\n",
       "      <th>2</th>\n",
       "      <td>2</td>\n",
       "      <td>2021-01-01 20:10:18</td>\n",
       "      <td>Half the problem got sorted when @RahulGandhi ...</td>\n",
       "      <td>Twitter Web App</td>\n",
       "      <td>4</td>\n",
       "      <td>8</td>\n",
       "      <td>New Delhi, India</td>\n",
       "      <td>half the problem got sorted when left the rema...</td>\n",
       "      <td>NEGATIVE</td>\n",
       "    </tr>\n",
       "    <tr>\n",
       "      <th>9</th>\n",
       "      <td>9</td>\n",
       "      <td>2021-01-01 18:10:24</td>\n",
       "      <td>Press conference by Kisan Andolan representati...</td>\n",
       "      <td>Twitter for iPhone</td>\n",
       "      <td>0</td>\n",
       "      <td>0</td>\n",
       "      <td>New Delhi, India</td>\n",
       "      <td>press conference kisan andolan representatives...</td>\n",
       "      <td>POSITIVE</td>\n",
       "    </tr>\n",
       "    <tr>\n",
       "      <th>16</th>\n",
       "      <td>16</td>\n",
       "      <td>2021-01-01 16:41:18</td>\n",
       "      <td>@narendramodi @PMOIndia @nstomar \\nThis is all...</td>\n",
       "      <td>Twitter Web App</td>\n",
       "      <td>0</td>\n",
       "      <td>1</td>\n",
       "      <td>New Delhi, India</td>\n",
       "      <td>this all you people and never forget that hist...</td>\n",
       "      <td>NEGATIVE</td>\n",
       "    </tr>\n",
       "    <tr>\n",
       "      <th>55</th>\n",
       "      <td>55</td>\n",
       "      <td>2021-01-01 04:46:15</td>\n",
       "      <td>Watch here farmers protests full documentary\\n...</td>\n",
       "      <td>Twitter for Android</td>\n",
       "      <td>0</td>\n",
       "      <td>0</td>\n",
       "      <td>New Delhi, India</td>\n",
       "      <td>watch here farmers protests full documentary c...</td>\n",
       "      <td>NEGATIVE</td>\n",
       "    </tr>\n",
       "    <tr>\n",
       "      <th>57</th>\n",
       "      <td>57</td>\n",
       "      <td>2021-01-01 03:51:31</td>\n",
       "      <td>@mastersheefu_\\n\\nGood Morning\\n🙏🙏🙏\\n\\nTo supp...</td>\n",
       "      <td>Twitter for Android</td>\n",
       "      <td>1</td>\n",
       "      <td>2</td>\n",
       "      <td>New Delhi, India</td>\n",
       "      <td>good morning support farmers posting this picture</td>\n",
       "      <td>POSITIVE</td>\n",
       "    </tr>\n",
       "    <tr>\n",
       "      <th>...</th>\n",
       "      <td>...</td>\n",
       "      <td>...</td>\n",
       "      <td>...</td>\n",
       "      <td>...</td>\n",
       "      <td>...</td>\n",
       "      <td>...</td>\n",
       "      <td>...</td>\n",
       "      <td>...</td>\n",
       "      <td>...</td>\n",
       "    </tr>\n",
       "    <tr>\n",
       "      <th>3359</th>\n",
       "      <td>3359</td>\n",
       "      <td>2020-12-18 09:26:49</td>\n",
       "      <td>\"New Agri laws haven't come overnight...\"\\n\\nR...</td>\n",
       "      <td>Twitter Web App</td>\n",
       "      <td>1</td>\n",
       "      <td>1</td>\n",
       "      <td>New Delhi, India</td>\n",
       "      <td>new agri laws havent come overnight read what ...</td>\n",
       "      <td>NEGATIVE</td>\n",
       "    </tr>\n",
       "    <tr>\n",
       "      <th>3364</th>\n",
       "      <td>3364</td>\n",
       "      <td>2020-12-18 09:18:22</td>\n",
       "      <td>The Farmers Acts – A Bird’s Eye View. Written ...</td>\n",
       "      <td>Twitter for Advertisers (legacy)</td>\n",
       "      <td>0</td>\n",
       "      <td>3</td>\n",
       "      <td>New Delhi, India</td>\n",
       "      <td>the farmers acts birds eye view written adv ma...</td>\n",
       "      <td>POSITIVE</td>\n",
       "    </tr>\n",
       "    <tr>\n",
       "      <th>3556</th>\n",
       "      <td>3556</td>\n",
       "      <td>2020-12-18 01:30:00</td>\n",
       "      <td>At this stage, farmers’ protest should be allo...</td>\n",
       "      <td>TweetDeck</td>\n",
       "      <td>0</td>\n",
       "      <td>0</td>\n",
       "      <td>New Delhi, India</td>\n",
       "      <td>this stage farmers protest should allowed says</td>\n",
       "      <td>NEGATIVE</td>\n",
       "    </tr>\n",
       "    <tr>\n",
       "      <th>3572</th>\n",
       "      <td>3572</td>\n",
       "      <td>2020-12-17 23:41:46</td>\n",
       "      <td>People who have never done agriculture or not ...</td>\n",
       "      <td>Twitter for Android</td>\n",
       "      <td>0</td>\n",
       "      <td>0</td>\n",
       "      <td>New Delhi, India</td>\n",
       "      <td>people who have never done agriculture not eve...</td>\n",
       "      <td>POSITIVE</td>\n",
       "    </tr>\n",
       "    <tr>\n",
       "      <th>3627</th>\n",
       "      <td>3627</td>\n",
       "      <td>2020-12-17 18:06:32</td>\n",
       "      <td>This is the #PoliticalDrama ⁦@ArvindKejriwal⁩ ...</td>\n",
       "      <td>Twitter for iPhone</td>\n",
       "      <td>0</td>\n",
       "      <td>0</td>\n",
       "      <td>New Delhi, India</td>\n",
       "      <td>this the can resort for what the point tearing...</td>\n",
       "      <td>NEGATIVE</td>\n",
       "    </tr>\n",
       "  </tbody>\n",
       "</table>\n",
       "<p>145 rows × 9 columns</p>\n",
       "</div>"
      ],
      "text/plain": [
       "      Unnamed: 0                 Date  \\\n",
       "2              2  2021-01-01 20:10:18   \n",
       "9              9  2021-01-01 18:10:24   \n",
       "16            16  2021-01-01 16:41:18   \n",
       "55            55  2021-01-01 04:46:15   \n",
       "57            57  2021-01-01 03:51:31   \n",
       "...          ...                  ...   \n",
       "3359        3359  2020-12-18 09:26:49   \n",
       "3364        3364  2020-12-18 09:18:22   \n",
       "3556        3556  2020-12-18 01:30:00   \n",
       "3572        3572  2020-12-17 23:41:46   \n",
       "3627        3627  2020-12-17 18:06:32   \n",
       "\n",
       "                                                  Tweet  \\\n",
       "2     Half the problem got sorted when @RahulGandhi ...   \n",
       "9     Press conference by Kisan Andolan representati...   \n",
       "16    @narendramodi @PMOIndia @nstomar \\nThis is all...   \n",
       "55    Watch here farmers protests full documentary\\n...   \n",
       "57    @mastersheefu_\\n\\nGood Morning\\n🙏🙏🙏\\n\\nTo supp...   \n",
       "...                                                 ...   \n",
       "3359  \"New Agri laws haven't come overnight...\"\\n\\nR...   \n",
       "3364  The Farmers Acts – A Bird’s Eye View. Written ...   \n",
       "3556  At this stage, farmers’ protest should be allo...   \n",
       "3572  People who have never done agriculture or not ...   \n",
       "3627  This is the #PoliticalDrama ⁦@ArvindKejriwal⁩ ...   \n",
       "\n",
       "                          Tweet Source  Retweets  Likes          Location  \\\n",
       "2                      Twitter Web App         4      8  New Delhi, India   \n",
       "9                   Twitter for iPhone         0      0  New Delhi, India   \n",
       "16                     Twitter Web App         0      1  New Delhi, India   \n",
       "55                 Twitter for Android         0      0  New Delhi, India   \n",
       "57                 Twitter for Android         1      2  New Delhi, India   \n",
       "...                                ...       ...    ...               ...   \n",
       "3359                   Twitter Web App         1      1  New Delhi, India   \n",
       "3364  Twitter for Advertisers (legacy)         0      3  New Delhi, India   \n",
       "3556                         TweetDeck         0      0  New Delhi, India   \n",
       "3572               Twitter for Android         0      0  New Delhi, India   \n",
       "3627                Twitter for iPhone         0      0  New Delhi, India   \n",
       "\n",
       "                                            Clean Tweet        SS  \n",
       "2     half the problem got sorted when left the rema...  NEGATIVE  \n",
       "9     press conference kisan andolan representatives...  POSITIVE  \n",
       "16    this all you people and never forget that hist...  NEGATIVE  \n",
       "55    watch here farmers protests full documentary c...  NEGATIVE  \n",
       "57    good morning support farmers posting this picture  POSITIVE  \n",
       "...                                                 ...       ...  \n",
       "3359  new agri laws havent come overnight read what ...  NEGATIVE  \n",
       "3364  the farmers acts birds eye view written adv ma...  POSITIVE  \n",
       "3556     this stage farmers protest should allowed says  NEGATIVE  \n",
       "3572  people who have never done agriculture not eve...  POSITIVE  \n",
       "3627  this the can resort for what the point tearing...  NEGATIVE  \n",
       "\n",
       "[145 rows x 9 columns]"
      ]
     },
     "execution_count": 46,
     "metadata": {},
     "output_type": "execute_result"
    }
   ],
   "source": [
    "df.loc[df['Location'] == 'New Delhi, India']"
   ]
  },
  {
   "cell_type": "code",
   "execution_count": 47,
   "metadata": {},
   "outputs": [
    {
     "name": "stdout",
     "output_type": "stream",
     "text": [
      "The number of positive views are : 61\n",
      "The number of negative views are : 37\n",
      "The number of neutral views are : 47\n"
     ]
    }
   ],
   "source": [
    "positive = 0\n",
    "negative = 0\n",
    "neutral = 0\n",
    "for i in range(3749):\n",
    "    string = df._get_value(i, 'Clean Tweet')\n",
    "    stringone = df._get_value(i, 'Location')\n",
    "    if(stringone == 'New Delhi, India'):\n",
    "        obj = TextBlob(string)\n",
    "        senti = obj.sentiment.polarity\n",
    "        if(senti > 0):\n",
    "            positive += 1\n",
    "        if(senti < 0):\n",
    "            negative += 1\n",
    "        if(senti == 0):\n",
    "            neutral += 1\n",
    "print(\"The number of positive views are : \" + str(positive))\n",
    "print(\"The number of negative views are : \" + str(negative))\n",
    "print(\"The number of neutral views are : \" + str(neutral))"
   ]
  },
  {
   "cell_type": "code",
   "execution_count": 48,
   "metadata": {},
   "outputs": [
    {
     "data": {
      "text/plain": [
       "145"
      ]
     },
     "execution_count": 48,
     "metadata": {},
     "output_type": "execute_result"
    }
   ],
   "source": [
    "61+37+47"
   ]
  },
  {
   "cell_type": "code",
   "execution_count": 51,
   "metadata": {},
   "outputs": [
    {
     "data": {
      "image/png": "[encoded data removed]",
      "text/plain": [
       "<Figure size 432x288 with 1 Axes>"
      ]
     },
     "metadata": {
      "needs_background": "light"
     },
     "output_type": "display_data"
    }
   ],
   "source": [
    "#Representaion of views in a pie chart\n",
    "slices = [positive, negative, neutral]\n",
    "Names = ['Positive', 'Negative', 'Neutral']\n",
    "plt.bar(Names, slices)\n",
    "plt.show()"
   ]
  },
  {
   "cell_type": "markdown",
   "metadata": {},
   "source": [
    "Thus, a lot of the people in Delhi are in support of the movement"
   ]
  },
  {
   "cell_type": "markdown",
   "metadata": {},
   "source": [
    "## Classification By Date "
   ]
  },
  {
   "cell_type": "markdown",
   "metadata": {},
   "source": [
    "Let Us take the dates from 26th December 2020 to 1st January 2020."
   ]
  },
  {
   "cell_type": "code",
   "execution_count": 58,
   "metadata": {},
   "outputs": [
    {
     "name": "stdout",
     "output_type": "stream",
     "text": [
      "The number of positive views are : 99\n",
      "The number of negative views are : 47\n"
     ]
    }
   ],
   "source": [
    "positive = 0\n",
    "negative = 0\n",
    "for i in range(3749):\n",
    "    string = df._get_value(i, 'Date')\n",
    "    stringone = df._get_value(i, 'Clean Tweet')\n",
    "    if('2020-12-26' in string):\n",
    "        obj = TextBlob(stringone)\n",
    "        sentiment = obj.sentiment.polarity\n",
    "        if(sentiment > 0):\n",
    "            positive += 1\n",
    "        if(sentiment < 0):\n",
    "            negative +=1\n",
    "print(\"The number of positive views are : \" + str(positive))\n",
    "print(\"The number of negative views are : \" + str(negative))"
   ]
  },
  {
   "cell_type": "code",
   "execution_count": 59,
   "metadata": {},
   "outputs": [
    {
     "name": "stdout",
     "output_type": "stream",
     "text": [
      "The number of positive views are : 62\n",
      "The number of negative views are : 36\n"
     ]
    }
   ],
   "source": [
    "positive = 0\n",
    "negative = 0\n",
    "for i in range(3749):\n",
    "    string = df._get_value(i, 'Date')\n",
    "    stringone = df._get_value(i, 'Clean Tweet')\n",
    "    if('2020-12-27' in string):\n",
    "        obj = TextBlob(stringone)\n",
    "        sentiment = obj.sentiment.polarity\n",
    "        if(sentiment > 0):\n",
    "            positive += 1\n",
    "        if(sentiment < 0):\n",
    "            negative +=1\n",
    "print(\"The number of positive views are : \" + str(positive))\n",
    "print(\"The number of negative views are : \" + str(negative))"
   ]
  },
  {
   "cell_type": "code",
   "execution_count": 60,
   "metadata": {},
   "outputs": [
    {
     "name": "stdout",
     "output_type": "stream",
     "text": [
      "The number of positive views are : 53\n",
      "The number of negative views are : 30\n"
     ]
    }
   ],
   "source": [
    "positive = 0\n",
    "negative = 0\n",
    "for i in range(3749):\n",
    "    string = df._get_value(i, 'Date')\n",
    "    stringone = df._get_value(i, 'Clean Tweet')\n",
    "    if('2020-12-28' in string):\n",
    "        obj = TextBlob(stringone)\n",
    "        sentiment = obj.sentiment.polarity\n",
    "        if(sentiment > 0):\n",
    "            positive += 1\n",
    "        if(sentiment < 0):\n",
    "            negative +=1\n",
    "print(\"The number of positive views are : \" + str(positive))\n",
    "print(\"The number of negative views are : \" + str(negative))"
   ]
  },
  {
   "cell_type": "code",
   "execution_count": 61,
   "metadata": {},
   "outputs": [
    {
     "name": "stdout",
     "output_type": "stream",
     "text": [
      "The number of positive views are : 80\n",
      "The number of negative views are : 43\n"
     ]
    }
   ],
   "source": [
    "positive = 0\n",
    "negative = 0\n",
    "for i in range(3749):\n",
    "    string = df._get_value(i, 'Date')\n",
    "    stringone = df._get_value(i, 'Clean Tweet')\n",
    "    if('2020-12-29' in string):\n",
    "        obj = TextBlob(stringone)\n",
    "        sentiment = obj.sentiment.polarity\n",
    "        if(sentiment > 0):\n",
    "            positive += 1\n",
    "        if(sentiment < 0):\n",
    "            negative +=1\n",
    "print(\"The number of positive views are : \" + str(positive))\n",
    "print(\"The number of negative views are : \" + str(negative))"
   ]
  },
  {
   "cell_type": "code",
   "execution_count": 63,
   "metadata": {},
   "outputs": [
    {
     "name": "stdout",
     "output_type": "stream",
     "text": [
      "The number of positive views are : 112\n",
      "The number of negative views are : 46\n"
     ]
    }
   ],
   "source": [
    "positive = 0\n",
    "negative = 0\n",
    "for i in range(3749):\n",
    "    string = df._get_value(i, 'Date')\n",
    "    stringone = df._get_value(i, 'Clean Tweet')\n",
    "    if('2020-12-30' in string):\n",
    "        obj = TextBlob(stringone)\n",
    "        sentiment = obj.sentiment.polarity\n",
    "        if(sentiment > 0):\n",
    "            positive += 1\n",
    "        if(sentiment < 0):\n",
    "            negative +=1\n",
    "print(\"The number of positive views are : \" + str(positive))\n",
    "print(\"The number of negative views are : \" + str(negative))"
   ]
  },
  {
   "cell_type": "code",
   "execution_count": 64,
   "metadata": {},
   "outputs": [
    {
     "name": "stdout",
     "output_type": "stream",
     "text": [
      "The number of positive views are : 50\n",
      "The number of negative views are : 22\n"
     ]
    }
   ],
   "source": [
    "positive = 0\n",
    "negative = 0\n",
    "for i in range(3749):\n",
    "    string = df._get_value(i, 'Date')\n",
    "    stringone = df._get_value(i, 'Clean Tweet')\n",
    "    if('2020-12-31' in string):\n",
    "        obj = TextBlob(stringone)\n",
    "        sentiment = obj.sentiment.polarity\n",
    "        if(sentiment > 0):\n",
    "            positive += 1\n",
    "        if(sentiment < 0):\n",
    "            negative +=1\n",
    "print(\"The number of positive views are : \" + str(positive))\n",
    "print(\"The number of negative views are : \" + str(negative))"
   ]
  },
  {
   "cell_type": "code",
   "execution_count": 65,
   "metadata": {},
   "outputs": [
    {
     "name": "stdout",
     "output_type": "stream",
     "text": [
      "The number of positive views are : 26\n",
      "The number of negative views are : 8\n"
     ]
    }
   ],
   "source": [
    "positive = 0\n",
    "negative = 0\n",
    "for i in range(3749):\n",
    "    string = df._get_value(i, 'Date')\n",
    "    stringone = df._get_value(i, 'Clean Tweet')\n",
    "    if('2021-01-01' in string):\n",
    "        obj = TextBlob(stringone)\n",
    "        sentiment = obj.sentiment.polarity\n",
    "        if(sentiment > 0):\n",
    "            positive += 1\n",
    "        if(sentiment < 0):\n",
    "            negative +=1\n",
    "print(\"The number of positive views are : \" + str(positive))\n",
    "print(\"The number of negative views are : \" + str(negative))"
   ]
  },
  {
   "cell_type": "code",
   "execution_count": 68,
   "metadata": {},
   "outputs": [
    {
     "data": {
      "image/png": "[encoded data removed]",
      "text/plain": [
       "<Figure size 432x288 with 1 Axes>"
      ]
     },
     "metadata": {
      "needs_background": "light"
     },
     "output_type": "display_data"
    }
   ],
   "source": [
    "Positives = [99,62,53,80,112,50,26]\n",
    "Negatives = [47,36,30,43,46,22,8]\n",
    "Dates = ['26 Dec','27 Dec','28 Dec','29 Dec','30 Dec','31 Dec','01 Jan']\n",
    "plt.plot(Dates,Positives)\n",
    "plt.plot(Dates,Negatives)\n",
    "plt.show()"
   ]
  },
  {
   "cell_type": "markdown",
   "metadata": {},
   "source": [
    "The blue line denotes number of positive comments and orange line denotes number of negative comments. We can see that the number of positive comments far outnumber the number of negative comments, indicating a more positive outlook of the issue among the public in recent times. On 30th December 2020, Positive comments hit a Peak at 112, whereas the number of negative comments sharply decreased from 26 Dec onwards."
   ]
  },
  {
   "cell_type": "markdown",
   "metadata": {},
   "source": [
    "## Most Retweeted tweets "
   ]
  },
  {
   "cell_type": "code",
   "execution_count": 82,
   "metadata": {},
   "outputs": [
    {
     "name": "stdout",
     "output_type": "stream",
     "text": [
      "The number of positive views are : 40\n",
      "The number of negative views are : 16\n"
     ]
    }
   ],
   "source": [
    "for i in range(3749):\n",
    "    string = df._get_value(i, 'Clean Tweet')\n",
    "    number = df._get_value(i, 'Retweets')\n",
    "    if(number >= 100):\n",
    "        obj = TextBlob(string)\n",
    "        sentiment = obj.sentiment.polarity\n",
    "        if(sentiment > 0):\n",
    "            positive += 1\n",
    "        if(sentiment < 0):\n",
    "            negative += 1\n",
    "print(\"The number of positive views are : \" + str(positive))\n",
    "print(\"The number of negative views are : \" + str(negative))"
   ]
  },
  {
   "cell_type": "markdown",
   "metadata": {},
   "source": [
    "## Most Liked Tweets "
   ]
  },
  {
   "cell_type": "code",
   "execution_count": 83,
   "metadata": {},
   "outputs": [
    {
     "name": "stdout",
     "output_type": "stream",
     "text": [
      "The number of positive views are : 43\n",
      "The number of negative views are : 17\n"
     ]
    }
   ],
   "source": [
    "for i in range(3749):\n",
    "    string = df._get_value(i, 'Clean Tweet')\n",
    "    number = df._get_value(i, 'Retweets')\n",
    "    if(number >= 150):\n",
    "        obj = TextBlob(string)\n",
    "        sentiment = obj.sentiment.polarity\n",
    "        if(sentiment > 0):\n",
    "            positive += 1\n",
    "        if(sentiment < 0):\n",
    "            negative += 1\n",
    "print(\"The number of positive views are : \" + str(positive))\n",
    "print(\"The number of negative views are : \" + str(negative))"
   ]
  }
 ],
 "metadata": {
  "kernelspec": {
   "display_name": "Python 3",
   "language": "python",
   "name": "python3"
  },
  "language_info": {
   "codemirror_mode": {
    "name": "ipython",
    "version": 3
   },
   "file_extension": ".py",
   "mimetype": "text/x-python",
   "name": "python",
   "nbconvert_exporter": "python",
   "pygments_lexer": "ipython3",
   "version": "3.7.6"
  }
 },
 "nbformat": 4,
 "nbformat_minor": 4
}
